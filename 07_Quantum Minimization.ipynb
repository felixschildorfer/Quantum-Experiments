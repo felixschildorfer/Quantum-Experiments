{
 "cells": [
  {
   "cell_type": "markdown",
   "metadata": {},
   "source": [
    "## Setup"
   ]
  },
  {
   "cell_type": "code",
   "execution_count": 1,
   "metadata": {},
   "outputs": [],
   "source": [
    "import numpy as np\n",
    "\n",
    "from pyquil.quil import Program\n",
    "from pyquil.api import QVMConnection\n",
    "from pyquil.gates import H, I\n",
    "from random import randint\n",
    "from math import ceil"
   ]
  },
  {
   "cell_type": "markdown",
   "metadata": {},
   "source": [
    "## Define Functions"
   ]
  },
  {
   "cell_type": "code",
   "execution_count": 2,
   "metadata": {},
   "outputs": [],
   "source": [
    "def y_func(x) :\n",
    "    if x == \"000\":\n",
    "        z = 1\n",
    "    elif x == \"100\":\n",
    "        z = 0\n",
    "    elif x == \"001\":\n",
    "        z = 2\n",
    "    else: \n",
    "        z = 3\n",
    "    return z"
   ]
  },
  {
   "cell_type": "code",
   "execution_count": 3,
   "metadata": {},
   "outputs": [],
   "source": [
    "def dirac(x) :\n",
    "    if x == 0:\n",
    "        return 1\n",
    "    else:\n",
    "        return 0"
   ]
  },
  {
   "cell_type": "markdown",
   "metadata": {},
   "source": [
    "## Define Quantum Oracle"
   ]
  },
  {
   "cell_type": "code",
   "execution_count": 4,
   "metadata": {},
   "outputs": [
    {
     "name": "stdout",
     "output_type": "stream",
     "text": [
      "100\n",
      "0\n",
      "[[1. 0. 0. 0. 0. 0. 0. 0.]\n",
      " [0. 1. 0. 0. 0. 0. 0. 0.]\n",
      " [0. 0. 1. 0. 0. 0. 0. 0.]\n",
      " [0. 0. 0. 1. 0. 0. 0. 0.]\n",
      " [0. 0. 0. 0. 1. 0. 0. 0.]\n",
      " [0. 0. 0. 0. 0. 1. 0. 0.]\n",
      " [0. 0. 0. 0. 0. 0. 1. 0.]\n",
      " [0. 0. 0. 0. 0. 0. 0. 1.]]\n"
     ]
    }
   ],
   "source": [
    "STRING_A = \"100\"\n",
    "STRING_B = \"000\"\n",
    "STRING_C = \"001\"\n",
    "\n",
    "N = len(STRING_A)\n",
    "\n",
    "O_1 = np.identity(2 ** N)\n",
    "O_2 = np.zeros(shape=(2 ** N, 2 ** N))\n",
    "O_3 = np.zeros(shape=(2 ** N, 2 ** N))\n",
    "O_4 = np.zeros(shape=(2 ** N, 2 ** N))\n",
    "                   \n",
    "for b in range(2 ** N):\n",
    "    if np.binary_repr(b, N) == STRING_A:\n",
    "        O_2[b, b] = -1\n",
    "    else:\n",
    "        O_2[b, b] = 1\n",
    "\n",
    "for b in range(2 ** N):\n",
    "    if np.binary_repr(b, N) == STRING_A or np.binary_repr(b, N) == STRING_B:\n",
    "        O_3[b, b] = -1\n",
    "    else:\n",
    "        O_3[b, b] = 1\n",
    "        \n",
    "for b in range(2 ** N):\n",
    "    if np.binary_repr(b, N) == STRING_A or np.binary_repr(b, N) == STRING_B or np.binary_repr(b, N) == STRING_C:\n",
    "        O_4[b, b] = -1\n",
    "    else:\n",
    "        O_4[b, b] = 1\n",
    "\n",
    "# x randomely chosen so that we can see the oracle works\n",
    "x = np.binary_repr(randint(0, 2 ** N), N)\n",
    "y = y_func(x)\n",
    "\n",
    "oracle = O_1 * dirac(y - 0) + O_2 * dirac(y - 1) + O_3 * dirac(y - 2) + O_4 * dirac(y - 3)\n",
    "\n",
    "print(x)\n",
    "print(y)\n",
    "print(oracle)"
   ]
  },
  {
   "cell_type": "markdown",
   "metadata": {},
   "source": [
    "## Initialization"
   ]
  },
  {
   "cell_type": "code",
   "execution_count": 5,
   "metadata": {},
   "outputs": [],
   "source": [
    "qvm = QVMConnection()\n",
    "gr_prog = Program()\n",
    "#d_prog = Program()"
   ]
  },
  {
   "cell_type": "code",
   "execution_count": 6,
   "metadata": {},
   "outputs": [],
   "source": [
    "first = list(reversed(range(N)))\n",
    "#gr_prog.inst([I(q) for q in first])\n",
    "#second = list(reversed(range(2)))\n",
    "#d_prog.inst([I(q) for q in second])\n",
    "#print(qvm.wavefunction(gr_prog))\n",
    "#print(qvm.wavefunction(d_prog))"
   ]
  },
  {
   "cell_type": "markdown",
   "metadata": {},
   "source": [
    "## The Loop"
   ]
  },
  {
   "cell_type": "code",
   "execution_count": 7,
   "metadata": {},
   "outputs": [
    {
     "data": {
      "text/plain": [
       "<pyquil.quil.Program at 0x1095762e8>"
      ]
     },
     "execution_count": 7,
     "metadata": {},
     "output_type": "execute_result"
    }
   ],
   "source": [
    "# Define quantum oracle\n",
    "ORACLE_GATE_NAME = \"GROVER_ORACLE\"\n",
    "gr_prog.defgate(ORACLE_GATE_NAME, oracle)\n",
    "\n",
    "# Define inversion around the mean\n",
    "DIFFUSION_GATE_NAME = \"DIFFUSION\"\n",
    "diffusion = 2.0 * np.full((2**N, 2**N), 1/(2**N)) - np.eye(2**N)\n",
    "gr_prog.defgate(DIFFUSION_GATE_NAME, diffusion)"
   ]
  },
  {
   "cell_type": "code",
   "execution_count": 8,
   "metadata": {},
   "outputs": [
    {
     "name": "stderr",
     "output_type": "stream",
     "text": [
      "/Users/felixschildorfer/anaconda3/lib/python3.7/site-packages/pyquil/quil.py:135: UserWarning: Gate GROVER_ORACLE has already been defined in this program\n",
      "  .format(instruction.name))\n"
     ]
    }
   ],
   "source": [
    "# Number of algorithm iterations\n",
    "N_ITER = int(np.pi / 4 * np.sqrt(2**N))\n",
    "\n",
    "# Set Starting Point\n",
    "x = np.binary_repr(randint(0, 2 ** N), N)\n",
    "y = y_func(x)\n",
    "m = 1\n",
    "lambd = 8/7\n",
    "\n",
    "# loop\n",
    "for i in range(N_ITER):\n",
    "    \n",
    "    # Check x, y and m\n",
    "    #print(x)\n",
    "    #print(y)\n",
    "    #print(m)\n",
    "    \n",
    "    \n",
    "    # Initialize\n",
    "    gr_prog.inst([I(q) for q in first])\n",
    "    \n",
    "    # Apply H Gate\n",
    "    gr_prog.inst([H(q) for q in first])\n",
    "    \n",
    "    # Set Quantum Oracle\n",
    "    oracle = O_1 * dirac(y - 0) + O_2 * dirac(y - 1) + O_3 * dirac(y - 2) + O_4 * dirac(y - 3)\n",
    "    gr_prog.defgate(ORACLE_GATE_NAME, oracle)\n",
    "    #print(oracle)\n",
    "    \n",
    "    # Set r\n",
    "    r = randint(1,m)\n",
    "    \n",
    "    \n",
    "    #Apply Grover's Search\n",
    "    for i in range(r):\n",
    "        \n",
    "        # \\psi_2^i:  Apply Quantum Oracle\n",
    "        gr_prog.inst(tuple([ORACLE_GATE_NAME] + first))\n",
    "        #print(qvm.wavefunction(gr_prog))\n",
    "    \n",
    "        # \\psi_3^i:  Apply Inversion around the mean\n",
    "        gr_prog.inst(tuple([DIFFUSION_GATE_NAME] + first))\n",
    "        #print(qvm.wavefunction(gr_prog))\n",
    "    \n",
    "    # Measure Output and set y\n",
    "    ## Measure\n",
    "    for q in first:\n",
    "        gr_prog.measure(qubit_index=q, classical_reg=q)\n",
    "        \n",
    "    ## Run    \n",
    "    ret = qvm.run(gr_prog, classical_addresses=first)\n",
    "    ret_string = ''.join([str(q) for q in ret[0]])\n",
    "    y_temp = y_func(ret_string) #conversion needs to be right\n",
    "    #print(ret_string)\n",
    "    #print(y_temp)\n",
    "    \n",
    "    #Set new threshold\n",
    "    if y_temp < y:\n",
    "        x = ret_string\n",
    "        y = y_func(ret_string)\n",
    "        m = ceil(lambd*m)\n",
    "\n",
    "\n",
    "#print(x)\n",
    "#print(y)"
   ]
  },
  {
   "cell_type": "markdown",
   "metadata": {},
   "source": [
    "## Measurement"
   ]
  },
  {
   "cell_type": "code",
   "execution_count": 9,
   "metadata": {},
   "outputs": [
    {
     "name": "stdout",
     "output_type": "stream",
     "text": [
      "The searched input is: 100\n",
      "The minimum is: 0\n"
     ]
    }
   ],
   "source": [
    "# Run\n",
    "print(\"The searched input is: {}\".format(x))\n",
    "print(\"The minimum is: {}\".format(y))"
   ]
  },
  {
   "cell_type": "markdown",
   "metadata": {},
   "source": [
    "### Source: https://arxiv.org/pdf/1804.10068.pdf"
   ]
  }
 ],
 "metadata": {
  "kernelspec": {
   "display_name": "Python 3",
   "language": "python",
   "name": "python3"
  },
  "language_info": {
   "codemirror_mode": {
    "name": "ipython",
    "version": 3
   },
   "file_extension": ".py",
   "mimetype": "text/x-python",
   "name": "python",
   "nbconvert_exporter": "python",
   "pygments_lexer": "ipython3",
   "version": "3.7.0"
  }
 },
 "nbformat": 4,
 "nbformat_minor": 2
}
