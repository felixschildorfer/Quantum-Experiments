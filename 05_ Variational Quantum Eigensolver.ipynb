{
 "cells": [
  {
   "cell_type": "markdown",
   "metadata": {},
   "source": [
    "## Setup"
   ]
  },
  {
   "cell_type": "code",
   "execution_count": 3,
   "metadata": {},
   "outputs": [],
   "source": [
    "import numpy as np\n",
    "from scipy.optimize import minimize\n",
    "\n",
    "from pyquil.quil import Program\n",
    "from pyquil.api import QVMConnection"
   ]
  },
  {
   "cell_type": "markdown",
   "metadata": {},
   "source": [
    "## Initialization"
   ]
  },
  {
   "cell_type": "code",
   "execution_count": 4,
   "metadata": {},
   "outputs": [],
   "source": [
    "qvm = QVMConnection()"
   ]
  },
  {
   "cell_type": "markdown",
   "metadata": {},
   "source": [
    "## Ansatz"
   ]
  },
  {
   "cell_type": "code",
   "execution_count": 5,
   "metadata": {},
   "outputs": [],
   "source": [
    "from pyquil.paulis import sZ\n",
    "H = sZ(0)"
   ]
  },
  {
   "cell_type": "code",
   "execution_count": 6,
   "metadata": {},
   "outputs": [],
   "source": [
    "from pyquil.gates import RY\n",
    "def ansatz(params):\n",
    "    return Program(RY(params[0], 0))"
   ]
  },
  {
   "cell_type": "markdown",
   "metadata": {},
   "source": [
    "## Calculating Expectation Value"
   ]
  },
  {
   "cell_type": "code",
   "execution_count": 7,
   "metadata": {},
   "outputs": [],
   "source": [
    "def expectation(params):\n",
    "    \n",
    "    # Define number of measurments\n",
    "    samples = 10000\n",
    "    \n",
    "    # Define program and measure\n",
    "    prog = ansatz(params)\n",
    "    prog.measure(0, 0)\n",
    "    ret = qvm.run(prog, [0], trials=samples) \n",
    "    \n",
    "    # Calculate expectation\n",
    "    freq_is_0 = [trial[0] for trial in ret].count(0) / samples\n",
    "    freq_is_1 = [trial[0] for trial in ret].count(1) / samples\n",
    "    \n",
    "    return freq_is_0 - freq_is_1"
   ]
  },
  {
   "cell_type": "markdown",
   "metadata": {},
   "source": [
    "## Test Expectation Value"
   ]
  },
  {
   "cell_type": "code",
   "execution_count": 8,
   "metadata": {},
   "outputs": [
    {
     "name": "stdout",
     "output_type": "stream",
     "text": [
      "1.0\n"
     ]
    }
   ],
   "source": [
    "test = expectation([0.0]) \n",
    "print(test)"
   ]
  },
  {
   "cell_type": "markdown",
   "metadata": {},
   "source": [
    "## Draw Expectation Value against Parameter Value"
   ]
  },
  {
   "cell_type": "code",
   "execution_count": 9,
   "metadata": {},
   "outputs": [
    {
     "data": {
      "text/plain": [
       "<Figure size 640x480 with 1 Axes>"
      ]
     },
     "metadata": {},
     "output_type": "display_data"
    }
   ],
   "source": [
    "params_range = np.linspace(0.0, 2 * np.pi, 25)\n",
    "data = [expectation([params]) for params in params_range]\n",
    "\n",
    "import matplotlib.pyplot as plt\n",
    "plt.xlabel('Parameter value')\n",
    "plt.ylabel('Expectation value')\n",
    "plt.plot(params_range, data)\n",
    "plt.show()"
   ]
  },
  {
   "cell_type": "markdown",
   "metadata": {},
   "source": [
    "## Minimize and get approximate of the lowest Eigenvalue"
   ]
  },
  {
   "cell_type": "code",
   "execution_count": 10,
   "metadata": {},
   "outputs": [
    {
     "name": "stdout",
     "output_type": "stream",
     "text": [
      " final_simplex: (array([[3.15   ],\n",
      "       [3.14375]]), array([-1., -1.]))\n",
      "           fun: -1.0\n",
      "       message: 'Optimization terminated successfully.'\n",
      "          nfev: 29\n",
      "           nit: 14\n",
      "        status: 0\n",
      "       success: True\n",
      "             x: array([3.15])\n"
     ]
    }
   ],
   "source": [
    "initial_params = [0.0]\n",
    "minimum = minimize(expectation, initial_params, method='Nelder-Mead', \n",
    "                   options={'initial_simplex': np.array([[0.0], [0.05]]), 'xatol': 1.0e-2})\n",
    "print(minimum)"
   ]
  },
  {
   "cell_type": "markdown",
   "metadata": {},
   "source": [
    "## Grove"
   ]
  },
  {
   "cell_type": "code",
   "execution_count": 11,
   "metadata": {},
   "outputs": [
    {
     "name": "stdout",
     "output_type": "stream",
     "text": [
      "{'x': array([3.15]), 'fun': -1.0}\n"
     ]
    }
   ],
   "source": [
    "from grove.pyvqe.vqe import VQE\n",
    "vqe = VQE(minimizer=minimize, minimizer_kwargs={'method': 'nelder-mead', \n",
    "          'options': {'initial_simplex': np.array([[0.0], [0.05]]), 'xatol': 1.0e-2}})\n",
    " \n",
    "initial_params = [0.0]\n",
    "result = vqe.vqe_run(ansatz, H, initial_params, samples=10000, qvm=qvm)\n",
    "print(result)"
   ]
  },
  {
   "cell_type": "markdown",
   "metadata": {},
   "source": [
    "## More Complex Example"
   ]
  },
  {
   "cell_type": "code",
   "execution_count": 12,
   "metadata": {},
   "outputs": [
    {
     "name": "stdout",
     "output_type": "stream",
     "text": [
      "WARNING: Fast method for expectation will be used. Noise\n",
      "                     models will be ineffective\n",
      "{'x': array([6.28401967, 4.1872102 , 1.56904527]), 'fun': -1.3999774337682906}\n"
     ]
    }
   ],
   "source": [
    "# Define matrix\n",
    "from pyquil.paulis import PauliSum, PauliTerm\n",
    "H = PauliSum([PauliTerm.from_list([(\"X\", 2), (\"Z\", 1),(\"X\", 0)], coefficient=0.2),\n",
    "              PauliTerm.from_list([(\"X\", 2), (\"I\", 1),(\"X\", 0)], coefficient=0.9),\n",
    "              PauliTerm.from_list([(\"Z\", 2), (\"Z\", 1),(\"Z\", 0)], coefficient=0.3)])\n",
    "\n",
    "\n",
    "# Define ansatz\n",
    "n_qubits, depth = 3, 3\n",
    "from pyquil.gates import RY, CNOT\n",
    "def ansatz(params):\n",
    "    p = Program()\n",
    "    for i in range(depth):\n",
    "        p += CNOT(2,0)\n",
    "        for j in range(n_qubits):\n",
    "            p += Program(RY(params[j], j))\n",
    "    return p\n",
    "\n",
    "# Minimize and get approximate of the lowest eigenvalue\n",
    "from grove.pyvqe.vqe import VQE\n",
    "qvm = QVMConnection()\n",
    "vqe = VQE(minimizer=minimize, minimizer_kwargs={'method': 'nelder-mead', \n",
    "                                                'options': {'xatol': 1.0e-2}})\n",
    "\n",
    "np.random.seed(999)\n",
    "initial_params = np.random.uniform(0.0, 2*np.pi, size=n_qubits)\n",
    "result = vqe.vqe_run(ansatz, H, initial_params, samples=None, qvm=qvm)\n",
    "print(result)"
   ]
  }
 ],
 "metadata": {
  "kernelspec": {
   "display_name": "Python 3",
   "language": "python",
   "name": "python3"
  },
  "language_info": {
   "codemirror_mode": {
    "name": "ipython",
    "version": 3
   },
   "file_extension": ".py",
   "mimetype": "text/x-python",
   "name": "python",
   "nbconvert_exporter": "python",
   "pygments_lexer": "ipython3",
   "version": "3.7.0"
  }
 },
 "nbformat": 4,
 "nbformat_minor": 2
}
