{
 "cells": [
  {
   "cell_type": "markdown",
   "metadata": {},
   "source": [
    "## Qubits"
   ]
  },
  {
   "cell_type": "code",
   "execution_count": 2,
   "metadata": {},
   "outputs": [],
   "source": [
    "import numpy as np\n",
    "\n",
    "state_zero = np.array([[1.0],\n",
    "                       [0.0]])\n",
    "state_one = np.array([[0.0],\n",
    "                      [1.0]])"
   ]
  },
  {
   "cell_type": "code",
   "execution_count": 3,
   "metadata": {},
   "outputs": [],
   "source": [
    "c1 = 1.0 / 2**0.5\n",
    "c2 = 1.0 / 2**0.5\n",
    "state_super = c1 * state_zero + c2 * state_one"
   ]
  },
  {
   "cell_type": "markdown",
   "metadata": {},
   "source": [
    "## Assembling qubits"
   ]
  },
  {
   "cell_type": "code",
   "execution_count": 4,
   "metadata": {},
   "outputs": [],
   "source": [
    "def multi_kron(*args):\n",
    "    ret = np.array([[1.0]])\n",
    "    for q in args:\n",
    "        ret = np.kron(ret, q)\n",
    "    return ret\n",
    "\n",
    "state_multi = multi_kron(state_zero, state_one, state_one, \n",
    "                         state_one, state_zero, state_one)"
   ]
  },
  {
   "cell_type": "markdown",
   "metadata": {},
   "source": [
    "## Quantum Gates"
   ]
  },
  {
   "cell_type": "code",
   "execution_count": 6,
   "metadata": {},
   "outputs": [],
   "source": [
    "gate_H = 1.0 / 2**0.5 * np.array([[1, 1],\n",
    "                             [1, -1]])\n",
    "    \n",
    "state_new = np.dot(gate_H, state_zero)"
   ]
  },
  {
   "cell_type": "code",
   "execution_count": 7,
   "metadata": {},
   "outputs": [],
   "source": [
    "gate_SWAP = np.array([[1,0,0,0],\n",
    "                      [0,0,1,0],\n",
    "                      [0,1,0,0],\n",
    "                      [0,0,0,1]])\n",
    "    \n",
    "state_t0 = multi_kron(state_zero, state_one)\n",
    "state_t1 = np.dot(gate_SWAP, state_t0)"
   ]
  },
  {
   "cell_type": "code",
   "execution_count": 8,
   "metadata": {},
   "outputs": [],
   "source": [
    "gate_I = np.eye(2)\n",
    "state_t0 = multi_kron(state_zero, state_one)\n",
    "state_t1 = np.dot(multi_kron(gate_H, gate_I), state_t0)"
   ]
  },
  {
   "cell_type": "markdown",
   "metadata": {},
   "source": [
    "## Measurement"
   ]
  },
  {
   "cell_type": "code",
   "execution_count": 9,
   "metadata": {},
   "outputs": [
    {
     "name": "stdout",
     "output_type": "stream",
     "text": [
      "Qubit Measured: \n",
      " 1 \n",
      " After-Measurment State: \n",
      " [[0.        ]\n",
      " [0.        ]\n",
      " [0.70710678]\n",
      " [0.70710678]]\n"
     ]
    }
   ],
   "source": [
    "# Prepare state\n",
    "state = np.dot(multi_kron(gate_H, gate_H), multi_kron(state_zero, state_zero))\n",
    "\n",
    "# Projectors\n",
    "P0 = np.dot(state_zero, state_zero.T)\n",
    "P1 = np.dot(state_one, state_one.T)\n",
    "\n",
    "# Probability of first qubit being in state 0\n",
    "rho = np.dot(state, state.T)\n",
    "prob0 = np.trace(np.dot(multi_kron(P0, gate_I), rho))\n",
    "\n",
    "# Simulate\n",
    "if np.random.rand() < prob0:\n",
    "    ret = 0\n",
    "    state_ret = np.dot(multi_kron(P0, gate_I), state)\n",
    "else:\n",
    "    ret = 1\n",
    "    state_ret = np.dot(multi_kron(P1, gate_I), state) \n",
    "    \n",
    "# Normalize\n",
    "from scipy import linalg\n",
    "state_ret /= linalg.norm(state_ret)\n",
    "\n",
    "print(\"Qubit Measured: \\n {} \\n After-Measurment State: \\n {}\".format(ret, state_ret))"
   ]
  },
  {
   "cell_type": "markdown",
   "metadata": {},
   "source": [
    "### Source: http://dkopczyk.quantee.co.uk/quantum-computing-in-python-introduction/"
   ]
  }
 ],
 "metadata": {
  "kernelspec": {
   "display_name": "Python 3",
   "language": "python",
   "name": "python3"
  },
  "language_info": {
   "codemirror_mode": {
    "name": "ipython",
    "version": 3
   },
   "file_extension": ".py",
   "mimetype": "text/x-python",
   "name": "python",
   "nbconvert_exporter": "python",
   "pygments_lexer": "ipython3",
   "version": "3.6.4"
  }
 },
 "nbformat": 4,
 "nbformat_minor": 2
}
