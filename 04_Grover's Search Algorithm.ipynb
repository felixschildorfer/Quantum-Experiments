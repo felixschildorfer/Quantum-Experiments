{
 "cells": [
  {
   "cell_type": "markdown",
   "metadata": {},
   "source": [
    "## Setup"
   ]
  },
  {
   "cell_type": "code",
   "execution_count": 1,
   "metadata": {},
   "outputs": [],
   "source": [
    "import numpy as np\n",
    "\n",
    "from pyquil.quil import Program\n",
    "from pyquil.api import QVMConnection\n",
    "from pyquil.gates import H, I, CSWAP"
   ]
  },
  {
   "cell_type": "markdown",
   "metadata": {},
   "source": [
    "## Quantum Oracle"
   ]
  },
  {
   "cell_type": "code",
   "execution_count": 2,
   "metadata": {},
   "outputs": [
    {
     "name": "stdout",
     "output_type": "stream",
     "text": [
      "[[1. 0. 0. ... 0. 0. 0.]\n",
      " [0. 1. 0. ... 0. 0. 0.]\n",
      " [0. 0. 1. ... 0. 0. 0.]\n",
      " ...\n",
      " [0. 0. 0. ... 1. 0. 0.]\n",
      " [0. 0. 0. ... 0. 1. 0.]\n",
      " [0. 0. 0. ... 0. 0. 1.]]\n"
     ]
    }
   ],
   "source": [
    "SEARCHED_STRING = \"1110110\"\n",
    "N = len(SEARCHED_STRING)\n",
    "oracle = np.zeros(shape=(2 ** N, 2 ** N))\n",
    "for b in range(2 ** N):\n",
    "    if np.binary_repr(b, N) == SEARCHED_STRING:\n",
    "        oracle[b, b] = -1\n",
    "    else:\n",
    "        oracle[b, b] = 1\n",
    "print(oracle)"
   ]
  },
  {
   "cell_type": "markdown",
   "metadata": {},
   "source": [
    "## Initialization"
   ]
  },
  {
   "cell_type": "code",
   "execution_count": 3,
   "metadata": {},
   "outputs": [],
   "source": [
    "qvm = QVMConnection()\n",
    "gr_prog = Program()"
   ]
  },
  {
   "cell_type": "code",
   "execution_count": 4,
   "metadata": {},
   "outputs": [
    {
     "data": {
      "text/plain": [
       "<pyquil.quil.Program at 0x11c039a20>"
      ]
     },
     "execution_count": 4,
     "metadata": {},
     "output_type": "execute_result"
    }
   ],
   "source": [
    "qubits = list(reversed(range(N)))\n",
    "gr_prog.inst([I(q) for q in qubits])"
   ]
  },
  {
   "cell_type": "markdown",
   "metadata": {},
   "source": [
    "## Create superposition"
   ]
  },
  {
   "cell_type": "code",
   "execution_count": 5,
   "metadata": {},
   "outputs": [
    {
     "data": {
      "text/plain": [
       "<pyquil.quil.Program at 0x11c039a20>"
      ]
     },
     "execution_count": 5,
     "metadata": {},
     "output_type": "execute_result"
    }
   ],
   "source": [
    "gr_prog.inst([H(q) for q in qubits])"
   ]
  },
  {
   "cell_type": "markdown",
   "metadata": {},
   "source": [
    "## The Loop"
   ]
  },
  {
   "cell_type": "code",
   "execution_count": 6,
   "metadata": {},
   "outputs": [],
   "source": [
    "# Define quantum oracle\n",
    "ORACLE_GATE_NAME = \"GROVER_ORACLE\"\n",
    "gr_prog.defgate(ORACLE_GATE_NAME, oracle)\n",
    "\n",
    "# Define inversion around the mean\n",
    "DIFFUSION_GATE_NAME = \"DIFFUSION\"\n",
    "diffusion = 2.0 * np.full((2**N, 2**N), 1/(2**N)) - np.eye(2**N)\n",
    "gr_prog.defgate(DIFFUSION_GATE_NAME, diffusion)\n",
    "\n",
    "# Number of algorithm iterations\n",
    "N_ITER = int(np.pi / 4 * np.sqrt(2**N))\n",
    "\n",
    "# Loop\n",
    "for i in range(N_ITER):\n",
    "    \n",
    "    # \\psi_2^i:  Apply Quantum Oracle\n",
    "    gr_prog.inst(tuple([ORACLE_GATE_NAME] + qubits))\n",
    "    #print(qvm.wavefunction(gr_prog))\n",
    "    \n",
    "    # \\psi_3^i:  Apply Inversion around the mean\n",
    "    gr_prog.inst(tuple([DIFFUSION_GATE_NAME] + qubits))\n",
    "    #print(qvm.wavefunction(gr_prog))"
   ]
  },
  {
   "cell_type": "markdown",
   "metadata": {},
   "source": [
    "## Measurement"
   ]
  },
  {
   "cell_type": "code",
   "execution_count": 7,
   "metadata": {},
   "outputs": [
    {
     "name": "stdout",
     "output_type": "stream",
     "text": [
      "The searched string is: 1110110\n"
     ]
    }
   ],
   "source": [
    "# \\psi_5: Measure\n",
    "for q in qubits:\n",
    "    gr_prog.measure(qubit_index=q, classical_reg=q)\n",
    "\n",
    "# Run\n",
    "ret = qvm.run(gr_prog, classical_addresses=qubits)\n",
    "ret_string = ''.join([str(q) for q in ret[0]])\n",
    "print(\"The searched string is: {}\".format(ret_string))"
   ]
  },
  {
   "cell_type": "markdown",
   "metadata": {},
   "source": [
    "## Fully Implemented Grove"
   ]
  },
  {
   "cell_type": "code",
   "execution_count": 8,
   "metadata": {},
   "outputs": [
    {
     "name": "stdout",
     "output_type": "stream",
     "text": [
      "The searched string is: 1011110\n"
     ]
    }
   ],
   "source": [
    "import numpy as np\n",
    "from grove.amplification.grover import Grover\n",
    "from pyquil.api import QVMConnection\n",
    "\n",
    "# Bitstring Map as an algorithm input\n",
    "SEARCHED_STRING = \"1011110\"\n",
    "N = len(SEARCHED_STRING)\n",
    "mapping = {}\n",
    "for b in range(2 ** N):\n",
    "    pad_str = np.binary_repr(b, N)\n",
    "    if pad_str == SEARCHED_STRING:\n",
    "        mapping[pad_str] = -1\n",
    "    else:\n",
    "        mapping[pad_str] = 1\n",
    "\n",
    "# Connection\n",
    "qvm = QVMConnection()\n",
    "\n",
    "# Run\n",
    "algo = Grover()\n",
    "ret_string = algo.find_bitstring(qvm, bitstring_map=mapping)    \n",
    "print(\"The searched string is: {}\".format(ret_string))"
   ]
  },
  {
   "cell_type": "markdown",
   "metadata": {},
   "source": [
    "### Source: http://dkopczyk.quantee.co.uk/grover-search/#easy-footnote-bottom-2-498"
   ]
  }
 ],
 "metadata": {
  "kernelspec": {
   "display_name": "Python 3",
   "language": "python",
   "name": "python3"
  },
  "language_info": {
   "codemirror_mode": {
    "name": "ipython",
    "version": 3
   },
   "file_extension": ".py",
   "mimetype": "text/x-python",
   "name": "python",
   "nbconvert_exporter": "python",
   "pygments_lexer": "ipython3",
   "version": "3.7.0"
  }
 },
 "nbformat": 4,
 "nbformat_minor": 2
}
