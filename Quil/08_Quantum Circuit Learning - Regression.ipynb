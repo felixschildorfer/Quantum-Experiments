{
 "cells": [
  {
   "cell_type": "markdown",
   "metadata": {},
   "source": [
    "# Create Dataset"
   ]
  },
  {
   "cell_type": "code",
   "execution_count": 7,
   "metadata": {},
   "outputs": [],
   "source": [
    "import numpy as np\n",
    "\n",
    "np.random.seed(0)\n",
    "m = 8\n",
    "X = np.linspace(-0.95,0.95,m)\n",
    "y = X**2"
   ]
  },
  {
   "cell_type": "markdown",
   "metadata": {},
   "source": [
    "# Encode Inputs"
   ]
  },
  {
   "cell_type": "code",
   "execution_count": 8,
   "metadata": {},
   "outputs": [],
   "source": [
    "import qsimulator as pq\n",
    "from qsimulator import RX, RY, RZ\n",
    "n_qubits = 3\n",
    "def input_prog(sample):\n",
    "    p = pq.Program(n_qubits)\n",
    "    for j in range(n_qubits):\n",
    "        p.inst(RY(np.arcsin(sample[0])), j)\n",
    "        p.inst(RZ(np.arccos(sample[0]**2)), j)\n",
    "    return p"
   ]
  },
  {
   "cell_type": "markdown",
   "metadata": {},
   "source": [
    "# Fully connected transverse Ising model"
   ]
  },
  {
   "cell_type": "code",
   "execution_count": 10,
   "metadata": {},
   "outputs": [],
   "source": [
    "from qcl import ising_prog_gen \n",
    "ising_prog = ising_prog_gen(trotter_steps=1000, T=10, n_qubits=n_qubits)"
   ]
  },
  {
   "cell_type": "markdown",
   "metadata": {},
   "source": [
    "# Output state"
   ]
  },
  {
   "cell_type": "code",
   "execution_count": 11,
   "metadata": {},
   "outputs": [],
   "source": [
    "depth = 3   \n",
    "def output_prog(theta):\n",
    "    p = pq.Program(n_qubits)\n",
    "    theta = theta.reshape(3,n_qubits,depth)\n",
    "    for i in range(depth):\n",
    "        p += ising_prog\n",
    "        for j in range(n_qubits):\n",
    "            rj = n_qubits-j-1\n",
    "            p.inst(RX(theta[0,rj,i]), j)\n",
    "            p.inst(RZ(theta[1,rj,i]), j)\n",
    "            p.inst(RX(theta[2,rj,i]), j)\n",
    "    return p"
   ]
  },
  {
   "cell_type": "markdown",
   "metadata": {},
   "source": [
    "# Gradients"
   ]
  },
  {
   "cell_type": "code",
   "execution_count": 12,
   "metadata": {},
   "outputs": [],
   "source": [
    "def grad_prog(theta, idx, sign):\n",
    "    theta = theta.reshape(3,n_qubits,depth)\n",
    "    idx = np.unravel_index(idx, theta.shape)\n",
    "    p = pq.Program(n_qubits)\n",
    "    for i in range(depth):\n",
    "        p += ising_prog\n",
    "        for j in range(n_qubits):\n",
    "            rj = n_qubits-j-1\n",
    "            if idx == (0,rj,i):\n",
    "                p.inst(RX(sign*np.pi/2.0), j)\n",
    "            p.inst(RX(theta[0,rj,i]), j)\n",
    "            if idx == (1,rj,i):\n",
    "                p.inst(RZ(sign*np.pi/2.0), j)\n",
    "            p.inst(RZ(theta[1,rj,i]), j)\n",
    "            if idx == (2,rj,i):\n",
    "                p.inst(RX(sign*np.pi/2.0), j)\n",
    "            p.inst(RX(theta[2,rj,i]), j)\n",
    "    return p"
   ]
  },
  {
   "cell_type": "markdown",
   "metadata": {},
   "source": [
    "# Quantum Circuit Learning - Regression"
   ]
  },
  {
   "cell_type": "code",
   "execution_count": 13,
   "metadata": {},
   "outputs": [
    {
     "name": "stdout",
     "output_type": "stream",
     "text": [
      "Epoch: 1/20 ::: Batch: 1/1 ::: Loss: 0.26443\n",
      "Epoch: 2/20 ::: Batch: 1/1 ::: Loss: 0.08545\n",
      "Epoch: 3/20 ::: Batch: 1/1 ::: Loss: 0.05744\n",
      "Epoch: 4/20 ::: Batch: 1/1 ::: Loss: 0.04031\n",
      "Epoch: 5/20 ::: Batch: 1/1 ::: Loss: 0.02745\n",
      "Epoch: 6/20 ::: Batch: 1/1 ::: Loss: 0.01802\n",
      "Epoch: 7/20 ::: Batch: 1/1 ::: Loss: 0.01139\n",
      "Epoch: 8/20 ::: Batch: 1/1 ::: Loss: 0.00697\n",
      "Epoch: 9/20 ::: Batch: 1/1 ::: Loss: 0.00416\n",
      "Epoch: 10/20 ::: Batch: 1/1 ::: Loss: 0.00247\n",
      "Epoch: 11/20 ::: Batch: 1/1 ::: Loss: 0.00148\n",
      "Epoch: 12/20 ::: Batch: 1/1 ::: Loss: 0.00093\n",
      "Epoch: 13/20 ::: Batch: 1/1 ::: Loss: 0.00063\n",
      "Epoch: 14/20 ::: Batch: 1/1 ::: Loss: 0.00046\n",
      "Epoch: 15/20 ::: Batch: 1/1 ::: Loss: 0.00037\n",
      "Epoch: 16/20 ::: Batch: 1/1 ::: Loss: 0.00033\n",
      "Epoch: 17/20 ::: Batch: 1/1 ::: Loss: 0.00030\n",
      "Epoch: 18/20 ::: Batch: 1/1 ::: Loss: 0.00028\n",
      "Epoch: 19/20 ::: Batch: 1/1 ::: Loss: 0.00027\n",
      "Epoch: 20/20 ::: Batch: 1/1 ::: Loss: 0.00027\n"
     ]
    }
   ],
   "source": [
    "from qsimulator import Z\n",
    "from qcl import QCL\n",
    "\n",
    "state_generators = dict()\n",
    "state_generators['input'] = input_prog\n",
    "state_generators['output'] = output_prog\n",
    "state_generators['grad'] = grad_prog\n",
    "\n",
    "initial_theta = np.random.uniform(0.0, 2*np.pi, size=3*n_qubits*depth)\n",
    "\n",
    "operator = pq.Program(n_qubits)\n",
    "operator.inst(Z, 0)\n",
    "operator_programs = [operator] \n",
    "est = QCL(state_generators, initial_theta, loss=\"mean_squared_error\",  \n",
    "          operator_programs=operator_programs, epochs=20, batch_size=m,\n",
    "          verbose=True)\n",
    "\n",
    "est.fit(X,y)\n",
    "results = est.get_results()\n",
    "\n",
    "X_test = np.linspace(-1.0,1.0,50)\n",
    "y_pred = est.predict(X_test)"
   ]
  },
  {
   "cell_type": "code",
   "execution_count": null,
   "metadata": {},
   "outputs": [],
   "source": [
    "# Plots"
   ]
  },
  {
   "cell_type": "code",
   "execution_count": 17,
   "metadata": {},
   "outputs": [
    {
     "data": {
      "text/plain": [
       "Text(0, 0.5, 'Loss')"
      ]
     },
     "execution_count": 17,
     "metadata": {},
     "output_type": "execute_result"
    },
    {
     "data": {
      "image/png": "[encoded data removed]",
      "text/plain": [
       "<Figure size 432x288 with 1 Axes>"
      ]
     },
     "metadata": {
      "needs_background": "light"
     },
     "output_type": "display_data"
    },
    {
     "data": {
      "image/png": "[encoded data removed]",
      "text/plain": [
       "<Figure size 432x288 with 1 Axes>"
      ]
     },
     "metadata": {
      "needs_background": "light"
     },
     "output_type": "display_data"
    }
   ],
   "source": [
    "import matplotlib.pyplot as plt\n",
    "plt.figure()\n",
    "plt.plot(X, y, 'bs', X_test,  y_pred, 'r-')\n",
    "\n",
    "plt.figure()\n",
    "plt.plot(np.arange(1,21), results.history_loss, 'bo-')\n",
    "plt.xticks(np.arange(1,21))\n",
    "plt.xlabel('Epoch')\n",
    "plt.ylabel('Loss')"
   ]
  }
 ],
 "metadata": {
  "kernelspec": {
   "display_name": "Python 3",
   "language": "python",
   "name": "python3"
  },
  "language_info": {
   "codemirror_mode": {
    "name": "ipython",
    "version": 3
   },
   "file_extension": ".py",
   "mimetype": "text/x-python",
   "name": "python",
   "nbconvert_exporter": "python",
   "pygments_lexer": "ipython3",
   "version": "3.6.8"
  }
 },
 "nbformat": 4,
 "nbformat_minor": 2
}
