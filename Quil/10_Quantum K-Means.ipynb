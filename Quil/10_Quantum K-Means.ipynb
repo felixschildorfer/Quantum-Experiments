{
 "cells": [
  {
   "cell_type": "markdown",
   "metadata": {},
   "source": [
    "## Setup"
   ]
  },
  {
   "cell_type": "code",
   "execution_count": 31,
   "metadata": {},
   "outputs": [],
   "source": [
    "import numpy as np\n",
    "\n",
    "from pyquil.quil import Program\n",
    "from pyquil.api import QVMConnection\n",
    "from pyquil.gates import H, I, CSWAP, X\n",
    "\n",
    "from random import randint"
   ]
  },
  {
   "cell_type": "markdown",
   "metadata": {},
   "source": [
    "## Swap Test"
   ]
  },
  {
   "cell_type": "code",
   "execution_count": 2,
   "metadata": {},
   "outputs": [],
   "source": [
    "# Set N, a and b\n",
    "N = 2\n",
    "a = b = N"
   ]
  },
  {
   "cell_type": "code",
   "execution_count": 57,
   "metadata": {},
   "outputs": [],
   "source": [
    "qvm = QVMConnection()\n",
    "gr_prog = Program()"
   ]
  },
  {
   "cell_type": "code",
   "execution_count": 58,
   "metadata": {},
   "outputs": [
    {
     "name": "stdout",
     "output_type": "stream",
     "text": [
      "(1+0j)|00011>\n"
     ]
    }
   ],
   "source": [
    "state = list(reversed(range(2*N + 1)))\n",
    "gr_prog.inst(I(5), I(4), I(3), X(2), X(1))\n",
    "print(qvm.wavefunction(gr_prog))"
   ]
  },
  {
   "cell_type": "code",
   "execution_count": 59,
   "metadata": {},
   "outputs": [
    {
     "name": "stdout",
     "output_type": "stream",
     "text": [
      "(0.7071067812+0j)|00011> + (0.7071067812+0j)|10011>\n"
     ]
    }
   ],
   "source": [
    "gr_prog.inst([H(2*N + 1) for q in state])\n",
    "print(qvm.wavefunction(gr_prog))"
   ]
  },
  {
   "cell_type": "code",
   "execution_count": 60,
   "metadata": {},
   "outputs": [
    {
     "name": "stdout",
     "output_type": "stream",
     "text": [
      "(0.7071067812+0j)|00011> + (0.7071067812+0j)|11100>\n"
     ]
    }
   ],
   "source": [
    "gr_prog.inst([CSWAP(5, 1, 3)])\n",
    "gr_prog.inst([CSWAP(5, 2, 4)])\n",
    "print(qvm.wavefunction(gr_prog))"
   ]
  },
  {
   "cell_type": "code",
   "execution_count": 61,
   "metadata": {},
   "outputs": [
    {
     "name": "stdout",
     "output_type": "stream",
     "text": [
      "(0.5+0j)|00011> + (0.5+0j)|01100> + (0.5+0j)|10011> + (-0.5+0j)|11100>\n"
     ]
    }
   ],
   "source": [
    "gr_prog.inst([H(2*N + 1) for q in state])\n",
    "print(qvm.wavefunction(gr_prog))"
   ]
  },
  {
   "cell_type": "code",
   "execution_count": 62,
   "metadata": {},
   "outputs": [
    {
     "name": "stdout",
     "output_type": "stream",
     "text": [
      "[[0]]\n"
     ]
    }
   ],
   "source": [
    "gr_prog.measure(2*N + 1, 2*N + 1)\n",
    "print(qvm.run(gr_prog, [2*N + 1]))"
   ]
  }
 ],
 "metadata": {
  "kernelspec": {
   "display_name": "Python 3",
   "language": "python",
   "name": "python3"
  },
  "language_info": {
   "codemirror_mode": {
    "name": "ipython",
    "version": 3
   },
   "file_extension": ".py",
   "mimetype": "text/x-python",
   "name": "python",
   "nbconvert_exporter": "python",
   "pygments_lexer": "ipython3",
   "version": "3.6.8"
  }
 },
 "nbformat": 4,
 "nbformat_minor": 2
}
