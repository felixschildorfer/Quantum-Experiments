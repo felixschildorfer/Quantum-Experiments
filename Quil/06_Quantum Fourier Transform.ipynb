{
 "cells": [
  {
   "cell_type": "markdown",
   "metadata": {},
   "source": [
    "## Setup"
   ]
  },
  {
   "cell_type": "code",
   "execution_count": 2,
   "metadata": {},
   "outputs": [],
   "source": [
    "import numpy as np\n",
    "\n",
    "from math import pi\n",
    "from pyquil.quil import Program\n",
    "from pyquil.api import QVMConnection\n",
    "from pyquil.gates import X, H, I, SWAP, CPHASE"
   ]
  },
  {
   "cell_type": "markdown",
   "metadata": {},
   "source": [
    "## Define function for 3 Qubit QFT"
   ]
  },
  {
   "cell_type": "code",
   "execution_count": 3,
   "metadata": {},
   "outputs": [
    {
     "name": "stdout",
     "output_type": "stream",
     "text": [
      "H 2\n",
      "CPHASE(pi/2) 1 2\n",
      "H 1\n",
      "CPHASE(pi/4) 0 2\n",
      "CPHASE(pi/2) 0 1\n",
      "H 0\n",
      "SWAP 0 2\n",
      "\n"
     ]
    }
   ],
   "source": [
    "def qft3(q0, q1, q2):\n",
    "    p = Program()\n",
    "    p.inst( H(q2),\n",
    "            CPHASE(pi/2.0, q1, q2),\n",
    "            H(q1),\n",
    "            CPHASE(pi/4.0, q0, q2),\n",
    "            CPHASE(pi/2.0, q0, q1),\n",
    "            H(q0),\n",
    "            SWAP(q0, q2) )\n",
    "    return p\n",
    "print(qft3(0, 1, 2))"
   ]
  },
  {
   "cell_type": "markdown",
   "metadata": {},
   "source": [
    "## Prepare State"
   ]
  },
  {
   "cell_type": "code",
   "execution_count": 4,
   "metadata": {},
   "outputs": [],
   "source": [
    "state_prep = Program().inst(X(0))\n",
    "qvm = QVMConnection()"
   ]
  },
  {
   "cell_type": "markdown",
   "metadata": {},
   "source": [
    "## Verify that this works"
   ]
  },
  {
   "cell_type": "code",
   "execution_count": 5,
   "metadata": {},
   "outputs": [
    {
     "name": "stdout",
     "output_type": "stream",
     "text": [
      "(1+0j)|001>\n"
     ]
    }
   ],
   "source": [
    "add_dummy_qubits = Program().inst(I(1), I(2))\n",
    "wavefunction = qvm.wavefunction(state_prep + add_dummy_qubits)\n",
    "print(wavefunction)"
   ]
  },
  {
   "cell_type": "markdown",
   "metadata": {},
   "source": [
    "## Compute QFT"
   ]
  },
  {
   "cell_type": "code",
   "execution_count": 22,
   "metadata": {},
   "outputs": [
    {
     "name": "stdout",
     "output_type": "stream",
     "text": [
      "[ 3.53553391e-01+0.        j  2.50000000e-01+0.25      j\n",
      "  2.16489014e-17+0.35355339j -2.50000000e-01+0.25      j\n",
      " -3.53553391e-01+0.        j -2.50000000e-01-0.25      j\n",
      " -2.16489014e-17-0.35355339j  2.50000000e-01-0.25      j]\n"
     ]
    }
   ],
   "source": [
    "wavefunction = qvm.wavefunction(state_prep + qft3(0, 1, 2))\n",
    "print(wavefunction.amplitudes)"
   ]
  },
  {
   "cell_type": "markdown",
   "metadata": {},
   "source": [
    "## Verify it works"
   ]
  },
  {
   "cell_type": "code",
   "execution_count": 23,
   "metadata": {},
   "outputs": [
    {
     "data": {
      "text/plain": [
       "array([ 0.35355339+0.        j,  0.25      +0.25      j,\n",
       "        0.        +0.35355339j, -0.25      +0.25      j,\n",
       "       -0.35355339+0.        j, -0.25      -0.25      j,\n",
       "        0.        -0.35355339j,  0.25      -0.25      j])"
      ]
     },
     "execution_count": 23,
     "metadata": {},
     "output_type": "execute_result"
    }
   ],
   "source": [
    "from numpy.fft import ifft\n",
    "ifft([0,1,0,0,0,0,0,0], norm=\"ortho\")"
   ]
  },
  {
   "cell_type": "markdown",
   "metadata": {},
   "source": [
    "### Source: http://pyquil.readthedocs.io/en/latest/advanced_usage.html#quantum-fourier-transform-qft"
   ]
  }
 ],
 "metadata": {
  "kernelspec": {
   "display_name": "Python 3",
   "language": "python",
   "name": "python3"
  },
  "language_info": {
   "codemirror_mode": {
    "name": "ipython",
    "version": 3
   },
   "file_extension": ".py",
   "mimetype": "text/x-python",
   "name": "python",
   "nbconvert_exporter": "python",
   "pygments_lexer": "ipython3",
   "version": "3.6.4"
  }
 },
 "nbformat": 4,
 "nbformat_minor": 2
}
