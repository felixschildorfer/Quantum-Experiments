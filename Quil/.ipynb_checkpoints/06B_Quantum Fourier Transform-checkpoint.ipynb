{
 "cells": [
  {
   "cell_type": "code",
   "execution_count": null,
   "metadata": {},
   "outputs": [],
   "source": [
    "#==============================================================================\n",
    "# DFT\n",
    "#==============================================================================\n",
    "import numpy as np\n",
    "x = np.array([0.5, 0.5, 0.5, 0.5])\n",
    "y = np.fft.fft(x, norm='ortho')\n",
    "print(y)\n",
    "\n",
    "x = np.fft.ifft(y, norm='ortho')\n",
    "print(x)\n",
    "\n",
    "#==============================================================================\n",
    "# QFT\n",
    "#==============================================================================\n",
    "import math\n",
    "from pyquil.quil import Program\n",
    "from pyquil.api import QVMConnection\n",
    "from pyquil.gates import SWAP, H, CPHASE\n",
    "\n",
    "# Create connection with QVM and initilize program\n",
    "qvm = QVMConnection()\n",
    "prog = Program()\n",
    "\n",
    "# Prepare state\n",
    "prog = prog.inst(H(0),H(1))\n",
    "print('Amplitudes a of input state psi: {}'.format(qvm.wavefunction(prog).amplitudes))\n",
    "\n",
    "# Perfrom QFT\n",
    "prog += SWAP(0, 1)\n",
    "prog += H(1)\n",
    "prog += CPHASE(math.pi / 2, 0, 1)\n",
    "prog += H(0)\n",
    "\n",
    "print('Amplitudes b of output state phi: {}'.format(qvm.wavefunction(prog).amplitudes))"
   ]
  },
  {
   "cell_type": "markdown",
   "metadata": {},
   "source": [
    "## DFT"
   ]
  },
  {
   "cell_type": "code",
   "execution_count": 1,
   "metadata": {},
   "outputs": [
    {
     "name": "stdout",
     "output_type": "stream",
     "text": [
      "[1.+0.j 0.+0.j 0.+0.j 0.+0.j]\n",
      "[0.5+0.j 0.5+0.j 0.5+0.j 0.5+0.j]\n"
     ]
    }
   ],
   "source": [
    "import numpy as np\n",
    "x = np.array([0.5, 0.5, 0.5, 0.5])\n",
    "y = np.fft.fft(x, norm='ortho')\n",
    "print(y)\n",
    "\n",
    "x = np.fft.ifft(y, norm='ortho')\n",
    "print(x)"
   ]
  },
  {
   "cell_type": "markdown",
   "metadata": {},
   "source": [
    "## QFT"
   ]
  },
  {
   "cell_type": "code",
   "execution_count": 2,
   "metadata": {},
   "outputs": [],
   "source": [
    "# Import\n",
    "import math\n",
    "from pyquil.quil import Program\n",
    "from pyquil.api import QVMConnection\n",
    "from pyquil.gates import SWAP, H, CPHASE"
   ]
  },
  {
   "cell_type": "markdown",
   "metadata": {},
   "source": [
    "## Create Connection"
   ]
  },
  {
   "cell_type": "code",
   "execution_count": 3,
   "metadata": {},
   "outputs": [],
   "source": [
    "qvm = QVMConnection()\n",
    "prog = Program()"
   ]
  },
  {
   "cell_type": "markdown",
   "metadata": {},
   "source": [
    "## Prepare State"
   ]
  },
  {
   "cell_type": "code",
   "execution_count": 4,
   "metadata": {},
   "outputs": [
    {
     "name": "stdout",
     "output_type": "stream",
     "text": [
      "Amplitudes a of input state psi: [0.5+0.j 0.5+0.j 0.5+0.j 0.5+0.j]\n"
     ]
    }
   ],
   "source": [
    "prog = prog.inst(H(0),H(1))\n",
    "print('Amplitudes a of input state psi: {}'.format(qvm.wavefunction(prog).amplitudes))"
   ]
  },
  {
   "cell_type": "markdown",
   "metadata": {},
   "source": [
    "## Perfrom QFT"
   ]
  },
  {
   "cell_type": "code",
   "execution_count": 5,
   "metadata": {},
   "outputs": [
    {
     "name": "stdout",
     "output_type": "stream",
     "text": [
      "Amplitudes b of output state phi: [1.+0.j 0.+0.j 0.+0.j 0.+0.j]\n"
     ]
    }
   ],
   "source": [
    "prog += SWAP(0, 1)\n",
    "prog += H(1)\n",
    "prog += CPHASE(math.pi / 2, 0, 1)\n",
    "prog += H(0)\n",
    "\n",
    "print('Amplitudes b of output state phi: {}'.format(qvm.wavefunction(prog).amplitudes))"
   ]
  }
 ],
 "metadata": {
  "kernelspec": {
   "display_name": "Python 3",
   "language": "python",
   "name": "python3"
  },
  "language_info": {
   "codemirror_mode": {
    "name": "ipython",
    "version": 3
   },
   "file_extension": ".py",
   "mimetype": "text/x-python",
   "name": "python",
   "nbconvert_exporter": "python",
   "pygments_lexer": "ipython3",
   "version": "3.7.0"
  }
 },
 "nbformat": 4,
 "nbformat_minor": 2
}
