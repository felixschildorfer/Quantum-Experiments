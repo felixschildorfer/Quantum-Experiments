{
 "cells": [
  {
   "cell_type": "markdown",
   "metadata": {},
   "source": [
    "# Quantum Circuit Learning \n",
    "## Classification Task"
   ]
  },
  {
   "cell_type": "markdown",
   "metadata": {},
   "source": [
    "Import basic modules"
   ]
  },
  {
   "cell_type": "code",
   "execution_count": 2,
   "metadata": {},
   "outputs": [],
   "source": [
    "# Data\n",
    "import numpy as np\n",
    "from sklearn.datasets import make_circles\n",
    "\n",
    "# Plots\n",
    "import matplotlib.pyplot as plt\n",
    "%matplotlib inline  \n",
    "from matplotlib.colors import ListedColormap"
   ]
  },
  {
   "cell_type": "markdown",
   "metadata": {},
   "source": [
    "In this example, QCL will try to perform a simple nonlinear classification task. The data points belong to two classes 0 (red dots) and 1 (blue dots)."
   ]
  },
  {
   "cell_type": "code",
   "execution_count": 3,
   "metadata": {},
   "outputs": [
    {
     "data": {
      "text/plain": [
       "<matplotlib.collections.PathCollection at 0x12c9bb630>"
      ]
     },
     "execution_count": 3,
     "metadata": {},
     "output_type": "execute_result"
    },
    {
     "data": {
      "image/png": "[encoded data removed]",
      "text/plain": [
       "<Figure size 432x288 with 1 Axes>"
      ]
     },
     "metadata": {
      "needs_background": "light"
     },
     "output_type": "display_data"
    }
   ],
   "source": [
    "#==============================================================================\n",
    "# Generate data and labels\n",
    "#==============================================================================\n",
    "np.random.seed(0)\n",
    "m = 10\n",
    "X, y = make_circles(n_samples=m, factor=.1, noise=.0, random_state=0)\n",
    "cm_bright = ListedColormap(['#FF0000', '#0000FF'])\n",
    "plt.scatter(X[:, 0], X[:, 1], c=y, cmap=cm_bright, edgecolors='k')"
   ]
  },
  {
   "cell_type": "markdown",
   "metadata": {},
   "source": [
    "Next, we produce a function generating input, output and gradient states. The default methods included in QCL can be used. As the input data for i-th sample is two dimensional we use the following unitary: $$U_0(x_i) = \\prod_{k=1}^N R_X^k(\\cos(x_{i,j'}^2))R_Y^k(\\sin(x_{i,j'}))$$ where $$j' = j\\text{ }mod\\text{ }2$$ i.e. the remainder of j divided by 2 and $$(x_{i,1}, x_{i,2})$$ are the coordinates of a training sample."
   ]
  },
  {
   "cell_type": "code",
   "execution_count": 4,
   "metadata": {},
   "outputs": [],
   "source": [
    "#==============================================================================\n",
    "# Programs\n",
    "#============================================================================== \n",
    "from qcl import (ising_prog_gen, default_input_state_gen, \n",
    "                 default_output_state_gen, default_grad_state_gen)\n",
    "\n",
    "n_qubits, depth = 4, 4\n",
    "\n",
    "ising_prog = ising_prog_gen(trotter_steps=1000, T=10, n_qubits=n_qubits)\n",
    "state_generators = dict()\n",
    "state_generators['input'] = default_input_state_gen(n_qubits)\n",
    "state_generators['output'] = default_output_state_gen(ising_prog, n_qubits, depth)\n",
    "state_generators['grad'] = default_grad_state_gen(ising_prog, n_qubits, depth)"
   ]
  },
  {
   "cell_type": "markdown",
   "metadata": {},
   "source": [
    "We increase the number of qubits and depth of quantum circuit in comparison to regression task to get a better fit. The output is taken from expectation values of observables Z on the first and the second qubit and we use [binary crossentropy](https://en.wikipedia.org/wiki/Cross_entropy) as a loss function minimized. For binary crossentropy loss function the expectation values are transformed by [softmax function](https://en.wikipedia.org/wiki/Softmax_function) to get valid probabilities, however, this is done inside the optimizer.py."
   ]
  },
  {
   "cell_type": "code",
   "execution_count": 5,
   "metadata": {},
   "outputs": [
    {
     "name": "stdout",
     "output_type": "stream",
     "text": [
      "Epoch: 1/20 ::: Batch: 1/1 ::: Loss: 0.70658\n",
      "Epoch: 2/20 ::: Batch: 1/1 ::: Loss: 0.60505\n",
      "Epoch: 3/20 ::: Batch: 1/1 ::: Loss: 0.55402\n",
      "Epoch: 4/20 ::: Batch: 1/1 ::: Loss: 0.52433\n",
      "Epoch: 5/20 ::: Batch: 1/1 ::: Loss: 0.50417\n",
      "Epoch: 6/20 ::: Batch: 1/1 ::: Loss: 0.48878\n",
      "Epoch: 7/20 ::: Batch: 1/1 ::: Loss: 0.47640\n",
      "Epoch: 8/20 ::: Batch: 1/1 ::: Loss: 0.46634\n",
      "Epoch: 9/20 ::: Batch: 1/1 ::: Loss: 0.45817\n",
      "Epoch: 10/20 ::: Batch: 1/1 ::: Loss: 0.45154\n",
      "Epoch: 11/20 ::: Batch: 1/1 ::: Loss: 0.44615\n",
      "Epoch: 12/20 ::: Batch: 1/1 ::: Loss: 0.44171\n",
      "Epoch: 13/20 ::: Batch: 1/1 ::: Loss: 0.43800\n",
      "Epoch: 14/20 ::: Batch: 1/1 ::: Loss: 0.43484\n",
      "Epoch: 15/20 ::: Batch: 1/1 ::: Loss: 0.43210\n",
      "Epoch: 16/20 ::: Batch: 1/1 ::: Loss: 0.42965\n",
      "Epoch: 17/20 ::: Batch: 1/1 ::: Loss: 0.42744\n",
      "Epoch: 18/20 ::: Batch: 1/1 ::: Loss: 0.42539\n",
      "Epoch: 19/20 ::: Batch: 1/1 ::: Loss: 0.42347\n",
      "Epoch: 20/20 ::: Batch: 1/1 ::: Loss: 0.42166\n"
     ]
    }
   ],
   "source": [
    "#==============================================================================\n",
    "# Quantum Circuit Learning - Classification \n",
    "#==============================================================================\n",
    "import qsimulator as pq\n",
    "from qsimulator import Z\n",
    "from qcl import QCL\n",
    "\n",
    "initial_theta = np.random.uniform(0.0, 2*np.pi, size=3*n_qubits*depth)\n",
    "\n",
    "operator1 = pq.Program(n_qubits)\n",
    "operator1.inst(Z, 0)\n",
    "operator2 = pq.Program(n_qubits)\n",
    "operator2.inst(Z, 1)\n",
    "operator_programs = [operator1, operator2] \n",
    "\n",
    "est = QCL(state_generators, initial_theta, loss=\"binary_crossentropy\",  \n",
    "          operator_programs=operator_programs, epochs=20, batch_size=m,\n",
    "          verbose=True)\n",
    "\n",
    "est.fit(X,y)\n",
    "results = est.get_results()"
   ]
  },
  {
   "cell_type": "markdown",
   "metadata": {},
   "source": [
    "Now, we can plot the decision surface of a fitted QCL estimator. As we see the QCL fits sufficiently to the data. We can increase the predictive force by increasing number of qubits and depth of quantum circuit."
   ]
  },
  {
   "cell_type": "code",
   "execution_count": 6,
   "metadata": {},
   "outputs": [
    {
     "data": {
      "text/plain": [
       "<matplotlib.collections.PathCollection at 0x130aef048>"
      ]
     },
     "execution_count": 6,
     "metadata": {},
     "output_type": "execute_result"
    },
    {
     "data": {
      "image/png": "[encoded data removed]",
      "text/plain": [
       "<Figure size 432x288 with 1 Axes>"
      ]
     },
     "metadata": {
      "needs_background": "light"
     },
     "output_type": "display_data"
    }
   ],
   "source": [
    "#==============================================================================\n",
    "# PLot results\n",
    "#==============================================================================\n",
    "cm = plt.cm.RdBu\n",
    "cm_bright = ListedColormap(['#FF0000', '#0000FF'])\n",
    "xx, yy = np.meshgrid(np.linspace(-1.0, 1.0, 10),\n",
    "                     np.linspace(-1.0, 1.0, 10))\n",
    "y_pred = est.predict(np.c_[xx.ravel(), yy.ravel()])[:,0]\n",
    "Z = y_pred.reshape(xx.shape)\n",
    "plt.contourf(xx, yy, Z, cmap=cm, alpha=.8)\n",
    "plt.scatter(X[:, 0], X[:, 1], c=y, cmap=cm_bright, edgecolors='k')"
   ]
  }
 ],
 "metadata": {
  "kernelspec": {
   "display_name": "Python 3",
   "language": "python",
   "name": "python3"
  },
  "language_info": {
   "codemirror_mode": {
    "name": "ipython",
    "version": 3
   },
   "file_extension": ".py",
   "mimetype": "text/x-python",
   "name": "python",
   "nbconvert_exporter": "python",
   "pygments_lexer": "ipython3",
   "version": "3.6.8"
  }
 },
 "nbformat": 4,
 "nbformat_minor": 2
}
