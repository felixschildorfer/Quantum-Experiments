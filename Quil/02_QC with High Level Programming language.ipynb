{
 "cells": [
  {
   "cell_type": "markdown",
   "metadata": {},
   "source": [
    "## Setup"
   ]
  },
  {
   "cell_type": "code",
   "execution_count": 3,
   "metadata": {},
   "outputs": [],
   "source": [
    "import numpy as np\n",
    "from pyquil.quil import Program\n",
    "from pyquil.api import QVMConnection\n",
    "from pyquil.gates import I, X, SWAP, H"
   ]
  },
  {
   "cell_type": "markdown",
   "metadata": {},
   "source": [
    "## Intitialization"
   ]
  },
  {
   "cell_type": "code",
   "execution_count": 2,
   "metadata": {},
   "outputs": [],
   "source": [
    "qvm = QVMConnection()\n",
    "prog = Program()"
   ]
  },
  {
   "cell_type": "markdown",
   "metadata": {},
   "source": [
    "## Quantum Gates"
   ]
  },
  {
   "cell_type": "code",
   "execution_count": 4,
   "metadata": {},
   "outputs": [
    {
     "name": "stdout",
     "output_type": "stream",
     "text": [
      "The system is in state: (1+0j)|1>\n"
     ]
    }
   ],
   "source": [
    "prog.inst(X(0))\n",
    "\n",
    "# Print current quantum state of the system\n",
    "state = qvm.wavefunction(prog)\n",
    "print(\"The system is in state: {}\".format(state))"
   ]
  },
  {
   "cell_type": "code",
   "execution_count": 5,
   "metadata": {},
   "outputs": [
    {
     "name": "stdout",
     "output_type": "stream",
     "text": [
      "The system is in state: (1+0j)|10>\n"
     ]
    }
   ],
   "source": [
    "prog.inst(SWAP(1, 0))\n",
    "\n",
    "# Print current quantum state of the system\n",
    "state = qvm.wavefunction(prog)\n",
    "print(\"The system is in state: {}\".format(state))"
   ]
  },
  {
   "cell_type": "code",
   "execution_count": 6,
   "metadata": {},
   "outputs": [
    {
     "name": "stdout",
     "output_type": "stream",
     "text": [
      "The system is in state: (0.7071067812+0j)|00> + (-0.7071067812+0j)|10>\n"
     ]
    }
   ],
   "source": [
    "prog.inst(H(1))\n",
    "\n",
    "# Print current quantum state of the system\n",
    "state = qvm.wavefunction(prog)\n",
    "print(\"The system is in state: {}\".format(state))"
   ]
  },
  {
   "cell_type": "markdown",
   "metadata": {},
   "source": [
    "## Measurement"
   ]
  },
  {
   "cell_type": "code",
   "execution_count": 7,
   "metadata": {},
   "outputs": [
    {
     "name": "stdout",
     "output_type": "stream",
     "text": [
      "The first qubit is in state |0> and second in state |0> after measurment\n"
     ]
    }
   ],
   "source": [
    "prog.measure(qubit_index=1, classical_reg=0)\n",
    "prog.measure(qubit_index=0, classical_reg=1)\n",
    "\n",
    "ret = qvm.run(prog, classical_addresses=[0, 1])\n",
    "print(\"The first qubit is in state |{}> and second in state |{}> after measurment\".format(*ret[0]))"
   ]
  },
  {
   "cell_type": "code",
   "execution_count": 8,
   "metadata": {},
   "outputs": [
    {
     "name": "stdout",
     "output_type": "stream",
     "text": [
      "Relative frequency of measuring the first qubit in |0> state: 0.504\n",
      "Relative frequency of measuring the first qubit in |1> state: 0.496\n",
      "Relative frequency of measuring the second qubit in |0> state: 1.0\n"
     ]
    }
   ],
   "source": [
    "ret = qvm.run(prog, classical_addresses=[0, 1], trials=1000)\n",
    "freq_first_is_0 = [trial[0] for trial in ret].count(0) / 1000\n",
    "freq_first_is_1 = [trial[0] for trial in ret].count(1) / 1000\n",
    "freq_second_is_0 = [trial[1] for trial in ret].count(0) / 1000\n",
    "print(\"Relative frequency of measuring the first qubit in |0> state: {}\".format(freq_first_is_0))\n",
    "print(\"Relative frequency of measuring the first qubit in |1> state: {}\".format(freq_first_is_1))\n",
    "print(\"Relative frequency of measuring the second qubit in |0> state: {}\".format(freq_second_is_0))"
   ]
  },
  {
   "cell_type": "markdown",
   "metadata": {},
   "source": [
    "### Source: http://dkopczyk.quantee.co.uk/high-level-quantum-computing/"
   ]
  }
 ],
 "metadata": {
  "kernelspec": {
   "display_name": "Python 3",
   "language": "python",
   "name": "python3"
  },
  "language_info": {
   "codemirror_mode": {
    "name": "ipython",
    "version": 3
   },
   "file_extension": ".py",
   "mimetype": "text/x-python",
   "name": "python",
   "nbconvert_exporter": "python",
   "pygments_lexer": "ipython3",
   "version": "3.6.4"
  }
 },
 "nbformat": 4,
 "nbformat_minor": 2
}
